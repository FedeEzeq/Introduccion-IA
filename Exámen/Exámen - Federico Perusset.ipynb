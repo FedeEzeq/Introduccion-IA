{
 "cells": [
  {
   "cell_type": "code",
   "execution_count": 26,
   "metadata": {},
   "outputs": [],
   "source": [
    "import numpy as np\n",
    "import matplotlib.pyplot as plt"
   ]
  },
  {
   "cell_type": "code",
   "execution_count": 38,
   "metadata": {},
   "outputs": [],
   "source": [
    "class Data(object):\n",
    "\n",
    "    def __init__(self, path):\n",
    "        self.dataset = self._build_dataset(path)\n",
    "\n",
    "    @staticmethod\n",
    "    def _build_dataset(path):\n",
    "        structure = [('entrada', np.float),\n",
    "                     ('salida', np.float)]\n",
    "\n",
    "        with open(path, encoding=\"utf8\") as data_csv:\n",
    "            data_gen = ((float(line.split(',')[0]), float(line.split(',')[1]))\n",
    "                        for i, line in enumerate(data_csv) if i != 0)\n",
    "            data = np.fromiter(data_gen, structure)\n",
    "\n",
    "        return data\n",
    "\n",
    "    def split(self, percentage):  # 0.8\n",
    "        X = self.dataset['entrada']\n",
    "        y = self.dataset['salida']\n",
    "\n",
    "        # X.shape[0] -> 10 (filas)\n",
    "\n",
    "        permuted_idxs = np.random.permutation(X.shape[0])\n",
    "        # 2,1,3,4,6,7,8,5,9,0\n",
    "\n",
    "        train_idxs = permuted_idxs[0:int(percentage * X.shape[0])]\n",
    "        # permuted_idxs[0:8]\n",
    "        # [2,1,3,4,5,6,7,8,5]\n",
    "\n",
    "        test_idxs = permuted_idxs[int(percentage * X.shape[0]): X.shape[0]]\n",
    "        # [9,0]\n",
    "\n",
    "        X_train = X[train_idxs]\n",
    "        X_test = X[test_idxs]\n",
    "\n",
    "        y_train = y[train_idxs]\n",
    "        y_test = y[test_idxs]\n",
    "\n",
    "        return X_train, X_test, y_train, y_test, X,y"
   ]
  },
  {
   "cell_type": "code",
   "execution_count": 39,
   "metadata": {},
   "outputs": [],
   "source": [
    "dataset = Data(r'clase_8_dataset.csv')\n",
    "X_train, X_test, y_train, y_test,X,y = dataset.split(0.8)"
   ]
  },
  {
   "cell_type": "code",
   "execution_count": 47,
   "metadata": {},
   "outputs": [
    {
     "name": "stdout",
     "output_type": "stream",
     "text": [
      "Nube de puntos de todo el dataset\n"
     ]
    },
    {
     "data": {
      "text/plain": [
       "<matplotlib.collections.PathCollection at 0x229cb59eeb0>"
      ]
     },
     "execution_count": 47,
     "metadata": {},
     "output_type": "execute_result"
    },
    {
     "data": {
      "image/png": "[encoded data removed]",
      "text/plain": [
       "<Figure size 432x288 with 1 Axes>"
      ]
     },
     "metadata": {
      "needs_background": "light"
     },
     "output_type": "display_data"
    }
   ],
   "source": [
    "print(\"Nube de puntos de todo el dataset\")\n",
    "plt.scatter(X, y)"
   ]
  },
  {
   "cell_type": "code",
   "execution_count": 48,
   "metadata": {},
   "outputs": [
    {
     "name": "stdout",
     "output_type": "stream",
     "text": [
      "Nube de puntos del Train\n"
     ]
    },
    {
     "data": {
      "text/plain": [
       "<matplotlib.collections.PathCollection at 0x229cb5ffaf0>"
      ]
     },
     "execution_count": 48,
     "metadata": {},
     "output_type": "execute_result"
    },
    {
     "data": {
      "image/png": "[encoded data removed]",
      "text/plain": [
       "<Figure size 432x288 with 1 Axes>"
      ]
     },
     "metadata": {
      "needs_background": "light"
     },
     "output_type": "display_data"
    }
   ],
   "source": [
    "print(\"Nube de puntos del Train\")\n",
    "plt.scatter(X_train, y_train)"
   ]
  },
  {
   "cell_type": "code",
   "execution_count": 54,
   "metadata": {},
   "outputs": [],
   "source": [
    "class Metric(object):\n",
    "    def __call__(self, target, prediction):\n",
    "        return NotImplemented\n",
    "    \n",
    "class MSE(Metric):\n",
    "    def __init__(self):\n",
    "        Metric.__init__(self)\n",
    "\n",
    "    def __call__(self, target, prediction):\n",
    "        n = target.size\n",
    "        return np.sum((target - prediction) ** 2) / n\n"
   ]
  },
  {
   "cell_type": "code",
   "execution_count": 126,
   "metadata": {},
   "outputs": [],
   "source": [
    "class BaseModel(object):\n",
    "\n",
    "    def __init__(self):\n",
    "        self.model = None\n",
    "\n",
    "    def fit(self, X, Y):\n",
    "        return NotImplemented\n",
    "\n",
    "    def predict(self, X):\n",
    "        return NotImplemented\n",
    "    \n",
    "class ConstantModel(BaseModel):\n",
    "\n",
    "    def fit(self, X, Y):\n",
    "        W = Y.mean()\n",
    "        self.model = W\n",
    "\n",
    "    def predict(self, X):\n",
    "        return np.ones(len(X)) * self.model\n",
    "\n",
    "\n",
    "#expandimos nuestro dataset original y le agregamos una columna de unos, lo que hacemos es que al calcular el W con la regresion afin, obtenemos la ordenada al origen\n",
    "class LinearRegressionWithB(BaseModel):\n",
    "\n",
    "    def fit(self, X, y):\n",
    "        X_expanded = np.vstack((X, np.ones(len(X)))).T   #agrega una columna de unos\n",
    "        W = np.linalg.inv(X_expanded.T.dot(X_expanded)).dot(X_expanded.T).dot(y)  #acá sí hace falta invertir\n",
    "        self.model = W\n",
    "\n",
    "    def predict(self, X):\n",
    "        X_expanded = np.vstack((X, np.ones(len(X)))).T #la tiene que volver a expandir\n",
    "        return X_expanded.dot(self.model)\n",
    "\n",
    "\n",
    "\n",
    "    \n",
    "    "
   ]
  },
  {
   "cell_type": "code",
   "execution_count": 129,
   "metadata": {},
   "outputs": [],
   "source": [
    "X_quadratic = np.vstack((np.power(X_train, 2), X_train, np.ones(len(X_train)))).T\n",
    "y_quadratic = np.vstack((np.power(X_train, 2), X_train, np.ones(len(X_train)))).T\n",
    "\n",
    "\n",
    "#X_quadratic = np.power(X_train, 2)\n",
    "#y_quadratic = np.power(y_train, 2)\n",
    "\n",
    "X_cubic = np.power(X_train, 3)\n",
    "y_cubic = np.power(y_train, 3)\n",
    "\n",
    "X_cuarta = np.vstack((np.power(X_train, 4), X_train, np.ones(len(X_train)))).T\n",
    "y_cuarta = np.vstack((np.power(y_train, 4), y_train, np.ones(len(y_train)))).T"
   ]
  },
  {
   "cell_type": "code",
   "execution_count": 130,
   "metadata": {},
   "outputs": [
    {
     "data": {
      "text/plain": [
       "(400,)"
      ]
     },
     "execution_count": 130,
     "metadata": {},
     "output_type": "execute_result"
    }
   ],
   "source": []
  },
  {
   "cell_type": "code",
   "execution_count": 93,
   "metadata": {},
   "outputs": [],
   "source": [
    "def k_folds(X_train, y_train, k=5):\n",
    "    l_regression_b = LinearRegressionWithB()\n",
    "    error = MSE()                               #esta es la métrica que voy a usar para comparar\n",
    "\n",
    "    chunk_size = int(len(X_train) / k)\n",
    "    mse_list = []\n",
    "    for i in range(0, len(X_train), chunk_size):\n",
    "        end = i + chunk_size if i + chunk_size <= len(X_train) else len(X_train)\n",
    "        \n",
    "        #un chunk de train va a ser de validacion\n",
    "        new_X_valid = X_train[i: end]\n",
    "        new_y_valid = y_train[i: end]\n",
    "        \n",
    "        #el resto de los chunks\n",
    "        new_X_train = np.concatenate([X_train[: i], X_train[end:]])\n",
    "        new_y_train = np.concatenate([y_train[: i], y_train[end:]])\n",
    "\n",
    "        l_regression_b.fit(new_X_train, new_y_train)\n",
    "        prediction = l_regression_b.predict(new_X_valid)\n",
    "        mse_list.append(error(new_y_valid, prediction))\n",
    "\n",
    "    mean_MSE = np.mean(mse_list)\n",
    "\n",
    "    return mean_MSE"
   ]
  },
  {
   "cell_type": "code",
   "execution_count": 121,
   "metadata": {},
   "outputs": [
    {
     "name": "stdout",
     "output_type": "stream",
     "text": [
      "842.6726275686431\n",
      "19107005.550770063\n",
      "447396415002.1154\n"
     ]
    }
   ],
   "source": [
    "print(k_folds(X_train,y_train))\n",
    "print(k_folds(X_quadratic,y_quadratic))\n",
    "print(k_folds(X_cubic,y_cubic))\n",
    "#k_folds(X_cubic,y_cubic)"
   ]
  },
  {
   "cell_type": "code",
   "execution_count": null,
   "metadata": {},
   "outputs": [],
   "source": []
  },
  {
   "cell_type": "code",
   "execution_count": 83,
   "metadata": {},
   "outputs": [],
   "source": []
  },
  {
   "cell_type": "code",
   "execution_count": null,
   "metadata": {},
   "outputs": [],
   "source": []
  },
  {
   "cell_type": "code",
   "execution_count": null,
   "metadata": {},
   "outputs": [],
   "source": []
  },
  {
   "cell_type": "code",
   "execution_count": null,
   "metadata": {},
   "outputs": [],
   "source": []
  },
  {
   "cell_type": "code",
   "execution_count": 85,
   "metadata": {},
   "outputs": [],
   "source": [
    "#def f(X):\n",
    "#    return .5 * X + np.sqrt(np.max(X, 0)) - np.cos(X) + 2"
   ]
  },
  {
   "cell_type": "code",
   "execution_count": null,
   "metadata": {},
   "outputs": [],
   "source": [
    "#CADA VEZ QUE CORRO AJUSTO A UN NUEVO MODELO. USO 20 DATOS\n",
    "# EL DE GRADO 5 TIENE MUCHA VARIANZA, AL AJUSTARSE DEMASIADO A LOS DATOS. \n",
    "\n",
    "def f_hat(x, w):\n",
    "    d = len(w) - 1\n",
    "    return np.sum(w * np.power(x, np.expand_dims(np.arange(d, -1, -1), 1)).T, 1)\n",
    "\n",
    "N = X_train.shape[0]\n",
    "n = int(.02 * N)\n",
    "xx_test = 3.2\n",
    "yy_test = f(xx_test)\n",
    "x_range = np.linspace(-500, 500, 100)\n",
    "colors = np.array(['tab:green', 'tab:purple', 'tab:cyan', 'tab:orange'])\n",
    "\n",
    "# Polinomios\n",
    "d_arr = [2, 3, 4]\n",
    "\n",
    "cnt = 1\n",
    "fig, axs = plt.subplots(2, 3, sharey=True, figsize=(15, 9))\n",
    "for i in range(1):\n",
    "    for j in range(3):\n",
    "        w = []\n",
    "        idx = np.random.permutation(N)[:n]\n",
    "        xx_train, yy_train = X_train[idx], y_train[idx]\n",
    "        \n",
    "        for d in d_arr:\n",
    "            w.append(np.polyfit(xx_train, yy_train, d))\n",
    "                \n",
    "                \n",
    "        axs[i, j].scatter(xx_train, yy_train)\n",
    "        axs[i, j].plot(x_range, f(x_range), 'r', linewidth=3.0)\n",
    "        for k in range(len(w)):\n",
    "            axs[i, j].plot(x_range, f_hat(x_range, w[k]), colors[k], linewidth=3.0)\n",
    "            \n",
    "        axs[i, j].scatter(xx_test, yy_test, c='r')\n",
    "        for k in range(len(w)):\n",
    "            axs[i, j].scatter(xx_test, f_hat(xx_test, w[k]), c=colors[k])\n",
    "                \n",
    "        axs[i, j].set_xlabel('x', size=12)\n",
    "        axs[i, j].set_ylabel('y', size=12)\n",
    "        axs[i, j].legend([r'$f$',r'$\\hat{f}$ (d = 2)', r'$\\hat{f}$ (d = 3)', \n",
    "                          r'$\\hat{f}$ (d = 5)'], fontsize=12)\n",
    "        axs[i, j].title.set_text('Experimento N° {}'.format(cnt))\n",
    "        cnt += 1\n",
    "plt.tight_layout()\n",
    "plt.show()\n",
    "\n",
    "#ajustamos el modelo a los puntos. Ver que d = 5 tiene mucha varianza. Es dificil royectar"
   ]
  }
 ],
 "metadata": {
  "kernelspec": {
   "display_name": "Python 3",
   "language": "python",
   "name": "python3"
  },
  "language_info": {
   "codemirror_mode": {
    "name": "ipython",
    "version": 3
   },
   "file_extension": ".py",
   "mimetype": "text/x-python",
   "name": "python",
   "nbconvert_exporter": "python",
   "pygments_lexer": "ipython3",
   "version": "3.8.5"
  }
 },
 "nbformat": 4,
 "nbformat_minor": 4
}
