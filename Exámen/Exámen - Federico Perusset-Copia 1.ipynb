{
 "cells": [
  {
   "cell_type": "code",
   "execution_count": 1,
   "metadata": {},
   "outputs": [],
   "source": [
    "import numpy as np\n",
    "import matplotlib.pyplot as plt"
   ]
  },
  {
   "cell_type": "code",
   "execution_count": 59,
   "metadata": {},
   "outputs": [],
   "source": [
    "class Data(object):\n",
    "\n",
    "    def __init__(self, path):\n",
    "        self.dataset = self._build_dataset(path)\n",
    "\n",
    "    @staticmethod\n",
    "    def _build_dataset(path):\n",
    "        structure = [('entrada', np.float),\n",
    "                     ('salida', np.float)]\n",
    "\n",
    "        with open(path, encoding=\"utf8\") as data_csv:\n",
    "            data_gen = ((float(line.split(',')[0]), float(line.split(',')[1]))\n",
    "                        for i, line in enumerate(data_csv) if i != 0)\n",
    "            data = np.fromiter(data_gen, structure)\n",
    "\n",
    "        return data\n",
    "\n",
    "    def split(self, percentage):  # 0.8\n",
    "        X = self.dataset['entrada']\n",
    "        y = self.dataset['salida']\n",
    "\n",
    "        # X.shape[0] -> 10 (filas)\n",
    "\n",
    "        permuted_idxs = np.random.permutation(X.shape[0])\n",
    "        # 2,1,3,4,6,7,8,5,9,0\n",
    "\n",
    "        train_idxs = permuted_idxs[0:int(percentage * X.shape[0])]\n",
    "        # permuted_idxs[0:8]\n",
    "        # [2,1,3,4,5,6,7,8,5]\n",
    "\n",
    "        test_idxs = permuted_idxs[int(percentage * X.shape[0]): X.shape[0]]\n",
    "        # [9,0]\n",
    "\n",
    "        X_train = X[train_idxs]\n",
    "        X_test = X[test_idxs]\n",
    "\n",
    "        y_train = y[train_idxs]\n",
    "        y_test = y[test_idxs]\n",
    "\n",
    "        return X_train, X_test, y_train, y_test, X,y"
   ]
  },
  {
   "cell_type": "code",
   "execution_count": 159,
   "metadata": {},
   "outputs": [
    {
     "name": "stdout",
     "output_type": "stream",
     "text": [
      "(100,)\n"
     ]
    }
   ],
   "source": [
    "dataset = Data(r'clase_8_dataset.csv')\n",
    "X_train, X_test, y_train, y_test,X,y = dataset.split(0.8)\n",
    "\n",
    "print(X_test.shape)"
   ]
  },
  {
   "cell_type": "code",
   "execution_count": 4,
   "metadata": {},
   "outputs": [
    {
     "name": "stdout",
     "output_type": "stream",
     "text": [
      "Nube de puntos de todo el dataset\n"
     ]
    },
    {
     "data": {
      "text/plain": [
       "<matplotlib.collections.PathCollection at 0x194894e2a60>"
      ]
     },
     "execution_count": 4,
     "metadata": {},
     "output_type": "execute_result"
    },
    {
     "data": {
      "image/png": "[encoded data removed]",
      "text/plain": [
       "<Figure size 432x288 with 1 Axes>"
      ]
     },
     "metadata": {
      "needs_background": "light"
     },
     "output_type": "display_data"
    }
   ],
   "source": [
    "print(\"Nube de puntos de todo el dataset\")\n",
    "plt.scatter(X, y)"
   ]
  },
  {
   "cell_type": "code",
   "execution_count": 5,
   "metadata": {},
   "outputs": [
    {
     "name": "stdout",
     "output_type": "stream",
     "text": [
      "Nube de puntos del Train\n"
     ]
    },
    {
     "data": {
      "text/plain": [
       "<matplotlib.collections.PathCollection at 0x1948982b970>"
      ]
     },
     "execution_count": 5,
     "metadata": {},
     "output_type": "execute_result"
    },
    {
     "data": {
      "image/png": "[encoded data removed]",
      "text/plain": [
       "<Figure size 432x288 with 1 Axes>"
      ]
     },
     "metadata": {
      "needs_background": "light"
     },
     "output_type": "display_data"
    }
   ],
   "source": [
    "print(\"Nube de puntos del Train\")\n",
    "plt.scatter(X_train, y_train)"
   ]
  },
  {
   "cell_type": "code",
   "execution_count": 152,
   "metadata": {},
   "outputs": [],
   "source": [
    "class Metric(object):\n",
    "    def __call__(self, target, prediction):\n",
    "        return NotImplemented\n",
    "    \n",
    "class MSE(Metric):\n",
    "    def __init__(self):\n",
    "        Metric.__init__(self)\n",
    "\n",
    "    def __call__(self, target, prediction):\n",
    "        n = target.size\n",
    "        return np.sum((target - prediction) ** 2) / n\n"
   ]
  },
  {
   "cell_type": "code",
   "execution_count": 137,
   "metadata": {},
   "outputs": [],
   "source": [
    "class BaseModel(object):\n",
    "\n",
    "    def __init__(self):\n",
    "        self.model = None\n",
    "\n",
    "    def fit(self, X, Y):\n",
    "        return NotImplemented\n",
    "\n",
    "    def predict(self, X):\n",
    "        return NotImplemented\n",
    "    \n",
    "class ConstantModel(BaseModel):\n",
    "\n",
    "    def fit(self, X, Y):\n",
    "        W = Y.mean()\n",
    "        self.model = W\n",
    "\n",
    "    def predict(self, X):\n",
    "        return np.ones(len(X)) * self.model\n",
    "\n",
    "\n",
    "#expandimos nuestro dataset original y le agregamos una columna de unos, lo que hacemos es que al calcular el W con la regresion afin, obtenemos la ordenada al origen\n",
    "class LinearRegressionWithB(BaseModel):\n",
    "\n",
    "    def fit(self, X, y):\n",
    "        X_expanded = np.vstack((X, np.ones(len(X)))).T   #agrega una columna de unos\n",
    "        W = np.linalg.inv(X_expanded.T.dot(X_expanded)).dot(X_expanded.T).dot(y)  #acá sí hace falta invertir\n",
    "        self.model = W\n",
    "        return W\n",
    "\n",
    "    def predict(self, X):\n",
    "        X_expanded = np.vstack((X, np.ones(len(X)))).T #la tiene que volver a expandir\n",
    "        return X_expanded.dot(self.model)\n",
    "    \n",
    "\n",
    "class Quadratic_withB(BaseModel):\n",
    "\n",
    "    def fit(self, X, y):\n",
    "        X_quadratic = np.vstack((np.power(X, 2), X, np.ones(len(X)))).T   #agrega una columna de unos\n",
    "        W = np.linalg.inv(X_quadratic.T.dot(X_quadratic)).dot(X_quadratic.T).dot(y)  #acá sí hace falta invertir\n",
    "        self.model = W\n",
    "        return W\n",
    "\n",
    "    def predict(self, X):\n",
    "        X_quadratic = np.vstack((np.power(X, 2), X, np.ones(len(X)))).T #la tiene que volver a expandir\n",
    "        return X_quadratic.dot(self.model)\n",
    "\n",
    "\n",
    "class Cubic_withB(BaseModel):\n",
    "\n",
    "    def fit(self, X, y):\n",
    "        X_cubic = np.vstack((np.power(X, 3),np.power(X, 2), X, np.ones(len(X)))).T   #agrega una columna de unos\n",
    "        W = np.linalg.inv(X_cubic.T.dot(X_cubic)).dot(X_cubic.T).dot(y)  #acá sí hace falta invertir\n",
    "        self.model = W\n",
    "        return W\n",
    "\n",
    "    def predict(self, X):\n",
    "        X_cubic = np.vstack((np.power(X, 3),np.power(X, 2), X, np.ones(len(X)))).T #la tiene que volver a expandir\n",
    "        return X_cubic.dot(self.model)\n",
    "\n",
    "class Forth_withB(BaseModel):\n",
    "\n",
    "    def fit(self, X, y):\n",
    "        X_forth = np.vstack((np.power(X, 4),np.power(X, 3),np.power(X, 2), X, np.ones(len(X)))).T   #agrega una columna de unos\n",
    "        W = np.linalg.inv(X_forth.T.dot(X_forth)).dot(X_forth.T).dot(y)  #acá sí hace falta invertir\n",
    "        self.model = W\n",
    "        return W\n",
    "\n",
    "    def predict(self, X):\n",
    "        X_forth = np.vstack((np.power(X, 4),np.power(X, 3),np.power(X, 2), X, np.ones(len(X)))).T #la tiene que volver a expandir\n",
    "        return X_forth.dot(self.model)\n",
    "\n",
    "\n",
    "    \n",
    "    "
   ]
  },
  {
   "cell_type": "code",
   "execution_count": 119,
   "metadata": {},
   "outputs": [
    {
     "data": {
      "text/plain": [
       "array([-1.01273171e-06,  6.03135137e-04,  1.15456974e-03,  1.79728086e+01])"
      ]
     },
     "execution_count": 119,
     "metadata": {},
     "output_type": "execute_result"
    }
   ],
   "source": [
    "l_regression_b_q = Cubic_withB()\n",
    "l_regression_b_q.fit (X_train,y_train)"
   ]
  },
  {
   "cell_type": "markdown",
   "metadata": {},
   "source": [
    "### Ejercicio 3.a"
   ]
  },
  {
   "cell_type": "code",
   "execution_count": 114,
   "metadata": {},
   "outputs": [],
   "source": [
    "def k_folds_lineal(X_train, y_train, k=5):\n",
    "    l_regression_b = LinearRegressionWithB()\n",
    "    error = MSE()                               #esta es la métrica que voy a usar para comparar\n",
    "\n",
    "    chunk_size = int(len(X_train) / k)\n",
    "    mse_list = []\n",
    "    W = []\n",
    "    min_mse = 10000\n",
    "    \n",
    "    for i in range(0, len(X_train), chunk_size):\n",
    "        end = i + chunk_size if i + chunk_size <= len(X_train) else len(X_train)\n",
    "        \n",
    "        #un chunk de train va a ser de validacion\n",
    "        new_X_valid = X_train[i: end]\n",
    "        new_y_valid = y_train[i: end]\n",
    "        \n",
    "        #el resto de los chunks para entrenar\n",
    "        new_X_train = np.concatenate([X_train[: i], X_train[end:]])\n",
    "        new_y_train = np.concatenate([y_train[: i], y_train[end:]])\n",
    "\n",
    "        l_regression_b.fit(new_X_train, new_y_train)\n",
    "        prediction = l_regression_b.predict(new_X_valid)\n",
    "        mse_list.append(error(new_y_valid, prediction))\n",
    "        \n",
    "        mse_actual = error(new_y_valid, prediction)\n",
    "        if mse_actual < min_mse:\n",
    "            min_mse = mse_actual\n",
    "            W = l_regression_b.fit(new_X_train, new_y_train)\n",
    "\n",
    "    mean_MSE = np.mean(mse_list)\n",
    "\n",
    "    return mean_MSE,W"
   ]
  },
  {
   "cell_type": "code",
   "execution_count": 115,
   "metadata": {},
   "outputs": [
    {
     "name": "stdout",
     "output_type": "stream",
     "text": [
      "(856.2228265699721, array([-0.08375083, 49.24105121]))\n"
     ]
    }
   ],
   "source": [
    "#a continuación imprimo el error cuadrático promedio de las corridas, y los valores de los parámetros que dá\n",
    "#el menor MSE dentro de los 4 entrenamientos. El criterio que uso es el MSE, que sea lo menor posible.\n",
    "print(k_folds_lineal(X_train,y_train))\n"
   ]
  },
  {
   "cell_type": "markdown",
   "metadata": {},
   "source": [
    "### Ejercicio 3. b"
   ]
  },
  {
   "cell_type": "code",
   "execution_count": 108,
   "metadata": {},
   "outputs": [],
   "source": [
    "def k_folds_quad(X_train, y_train, k=5):\n",
    "    quadratic_withB = Quadratic_withB()\n",
    "    error = MSE()                               #esta es la métrica que voy a usar para comparar\n",
    "\n",
    "    chunk_size = int(len(X_train) / k)\n",
    "    mse_list = []\n",
    "    W = []\n",
    "    min_mse = 10000\n",
    "    for i in range(0, len(X_train), chunk_size):\n",
    "        end = i + chunk_size if i + chunk_size <= len(X_train) else len(X_train)\n",
    "        \n",
    "        #un chunk de train va a ser de validacion\n",
    "        new_X_valid = X_train[i: end]\n",
    "        new_y_valid = y_train[i: end]\n",
    "        \n",
    "        #el resto de los chunks para entrenar\n",
    "        new_X_train = np.concatenate([X_train[: i], X_train[end:]])\n",
    "        new_y_train = np.concatenate([y_train[: i], y_train[end:]])\n",
    "\n",
    "        quadratic_withB.fit(new_X_train, new_y_train)\n",
    "        prediction = quadratic_withB.predict(new_X_valid)\n",
    "        mse_list.append(error(new_y_valid, prediction))\n",
    "        \n",
    "        mse_actual = error(new_y_valid, prediction)\n",
    "        if mse_actual < min_mse:\n",
    "            min_mse = mse_actual\n",
    "            W = quadratic_withB.fit(new_X_train, new_y_train)\n",
    "\n",
    "    mean_MSE = np.mean(mse_list)\n",
    "    #W = quadratic_withB.fit(new_X_train, new_y_train)\n",
    "    \n",
    "    return mean_MSE,W"
   ]
  },
  {
   "cell_type": "code",
   "execution_count": 192,
   "metadata": {},
   "outputs": [
    {
     "name": "stdout",
     "output_type": "stream",
     "text": [
      "(102.15710058781909, array([ 5.96260606e-04, -9.37949490e-02,  1.74381597e+01]))\n",
      "\n",
      "El error de test para el modelo cuadrático es:  102.64316984857749\n"
     ]
    }
   ],
   "source": [
    "#A CONTINUACIÓN, EL ERROR CUADRÁTICO MEDIO PARA APROXIMACION CUADRÁTIAC Y LOS PARÁMETROS CON MENOR MCE PARA DICHO MODELO\n",
    "print(k_folds_quad(X_train,y_train))\n",
    "mean_MSE_quadratic, w_quadratic = k_folds_quad(X_train,y_train)\n",
    "\n",
    "\n",
    "#CORRO EL MEJOR MODELO DE n=2 con EL DATASET DE TEST y CALCULO EL ERROR:\n",
    "\n",
    "X_test_quadratic = np.vstack((np.power(X_test, 2), X_test, np.ones(len(X_test)))).T\n",
    "y_predict_2 = X_test_quadratic.dot(w_quadratic)\n",
    "error = MSE ()\n",
    "error_test = error(y_test, y_predict_2)\n",
    "\n",
    "print('\\nEl error de test para el modelo cuadrático es: ', error_test)\n",
    "\n"
   ]
  },
  {
   "cell_type": "code",
   "execution_count": 124,
   "metadata": {},
   "outputs": [],
   "source": [
    "def k_folds_cubic(X_train, y_train, k=5):\n",
    "    cubic_withB =Cubic_withB()\n",
    "    error = MSE()                               #esta es la métrica que voy a usar para comparar\n",
    "\n",
    "    chunk_size = int(len(X_train) / k)\n",
    "    mse_list = []\n",
    "    W = []\n",
    "    min_mse = 10000\n",
    "    for i in range(0, len(X_train), chunk_size):\n",
    "        end = i + chunk_size if i + chunk_size <= len(X_train) else len(X_train)\n",
    "        \n",
    "        #un chunk de train va a ser de validacion\n",
    "        new_X_valid = X_train[i: end]\n",
    "        new_y_valid = y_train[i: end]\n",
    "        \n",
    "        #el resto de los chunks para entrenar\n",
    "        new_X_train = np.concatenate([X_train[: i], X_train[end:]])\n",
    "        new_y_train = np.concatenate([y_train[: i], y_train[end:]])\n",
    "\n",
    "        cubic_withB.fit(new_X_train, new_y_train)\n",
    "        prediction = cubic_withB.predict(new_X_valid)\n",
    "        mse_list.append(error(new_y_valid, prediction))\n",
    "        \n",
    "        mse_actual = error(new_y_valid, prediction)\n",
    "        if mse_actual < min_mse:\n",
    "            min_mse = mse_actual\n",
    "            W = cubic_withB.fit(new_X_train, new_y_train)\n",
    "\n",
    "    mean_MSE = np.mean(mse_list)\n",
    "    \n",
    "    return mean_MSE,W"
   ]
  },
  {
   "cell_type": "code",
   "execution_count": 188,
   "metadata": {},
   "outputs": [
    {
     "name": "stdout",
     "output_type": "stream",
     "text": [
      "(9.61497491902718, array([-1.01106865e-06,  6.03857728e-04,  1.45275301e-03,  1.78748364e+01]))\n",
      "\n",
      "El error de test para el modelo cúbico es:  9.817704345235883\n"
     ]
    }
   ],
   "source": [
    "#A CONTINUACIÓN, EL ERROR CUADRÁTICO MEDIO PARA APROXIMACION CUBICA Y LOS PARÁMETROS CON MENOR MCE PARA DICHO MODELO\n",
    "print(k_folds_cubic(X_train,y_train))\n",
    "\n",
    "mean_MSE_cubic, w_cubic = k_folds_cubic(X_train,y_train)\n",
    "\n",
    "\n",
    "#CORRO EL MEJOR MODELO DE n=3 con EL DATASET DE TEST y CALCULO EL ERROR:\n",
    "\n",
    "X_test_cubic = np.vstack((np.power(X_test, 3),np.power(X_test, 2), X_test, np.ones(len(X_test)))).T\n",
    "y_predict_3 = X_test_cubic.dot(w_cubic)\n",
    "error = MSE ()\n",
    "error_test = error(y_test, y_predict_3)\n",
    "\n",
    "print('\\nEl error de test para el modelo cúbico es: ', error_test)\n",
    "\n"
   ]
  },
  {
   "cell_type": "code",
   "execution_count": 138,
   "metadata": {},
   "outputs": [],
   "source": [
    "def k_folds_forth(X_train, y_train, k=5):\n",
    "    forth_withB =Forth_withB()\n",
    "    error = MSE()                               #esta es la métrica que voy a usar para comparar\n",
    "\n",
    "    chunk_size = int(len(X_train) / k)\n",
    "    mse_list = []\n",
    "    W = []\n",
    "    min_mse = 10000\n",
    "    for i in range(0, len(X_train), chunk_size):\n",
    "        end = i + chunk_size if i + chunk_size <= len(X_train) else len(X_train)\n",
    "        \n",
    "        #un chunk de train va a ser de validacion\n",
    "        new_X_valid = X_train[i: end]\n",
    "        new_y_valid = y_train[i: end]\n",
    "        \n",
    "        #el resto de los chunks para entrenar\n",
    "        new_X_train = np.concatenate([X_train[: i], X_train[end:]])\n",
    "        new_y_train = np.concatenate([y_train[: i], y_train[end:]])\n",
    "\n",
    "        forth_withB.fit(new_X_train, new_y_train)\n",
    "        prediction = forth_withB.predict(new_X_valid)\n",
    "        mse_list.append(error(new_y_valid, prediction))\n",
    "        \n",
    "        mse_actual = error(new_y_valid, prediction)\n",
    "        if mse_actual < min_mse:\n",
    "            min_mse = mse_actual\n",
    "            W = forth_withB.fit(new_X_train, new_y_train)\n",
    "\n",
    "    mean_MSE = np.mean(mse_list)\n",
    "    \n",
    "    return mean_MSE,W"
   ]
  },
  {
   "cell_type": "code",
   "execution_count": 187,
   "metadata": {},
   "outputs": [
    {
     "name": "stdout",
     "output_type": "stream",
     "text": [
      "(9.610999877794523, array([-9.07908864e-11, -1.01018685e-06,  6.16176349e-04,  1.45710512e-03,\n",
      "        1.76657934e+01]))\n",
      "\n",
      "El error de test para el modelo con n=4 es:  9.902331353674224\n"
     ]
    }
   ],
   "source": [
    "#A CONTINUACIÓN, EL ERROR CUADRÁTICO MEDIO PARA APROXIMACION CUARTA Y LOS PARÁMETROS CON MENOS MCE PARA DICHO MODELO\n",
    "print(k_folds_forth(X_train,y_train))\n",
    "\n",
    "mean_MSE_forth, w_forth = k_folds_forth(X_train,y_train)\n",
    "\n",
    "\n",
    "#CORRO EL MEJOR MODELO DE n=4 con EL DATASET DE TEST y CALCULO EL ERROR:\n",
    "\n",
    "X_test_forth = np.vstack((np.power(X_test, 4),np.power(X_test, 3),np.power(X_test, 2), X_test, np.ones(len(X_test)))).T\n",
    "y_predict_4 = X_test_forth.dot(w_forth)\n",
    "error = MSE ()\n",
    "error_test = error(y_test, y_predict_4)\n",
    "\n",
    "print('\\nEl error de test para el modelo con n=4 es: ', error_test)\n",
    "\n",
    "\n"
   ]
  },
  {
   "cell_type": "markdown",
   "metadata": {},
   "source": [
    "### Ejercicio 3.c "
   ]
  },
  {
   "cell_type": "markdown",
   "metadata": {},
   "source": [
    "#### El polinomio que hace una mejor aproximación a la nube de puntos es el de grado 3, ya que es el que menor MCE promedio presenta. "
   ]
  },
  {
   "cell_type": "markdown",
   "metadata": {},
   "source": [
    "### Ejercicio 3. d\n"
   ]
  },
  {
   "cell_type": "code",
   "execution_count": 231,
   "metadata": {},
   "outputs": [
    {
     "data": {
      "image/png": "[encoded data removed]",
      "text/plain": [
       "<Figure size 864x432 with 1 Axes>"
      ]
     },
     "metadata": {
      "needs_background": "light"
     },
     "output_type": "display_data"
    }
   ],
   "source": [
    "def plot_nube(X,y,y_predict):\n",
    "        plt.figure(figsize=(12, 6))\n",
    "        plt.scatter(X,y)\n",
    "        plt.scatter (X,y_predict)\n",
    "       \n",
    "        plt.xlabel('x', size=20)\n",
    "        plt.ylabel('y', size=20)\n",
    "        \n",
    "        plt.legend([r'$Y test$', r'$Yestimado$'], fontsize=20)\n",
    "        plt.show()\n",
    "        \n",
    "\n",
    "plot_nube (X_test,y_test,y_predict)\n",
    "\n"
   ]
  },
  {
   "cell_type": "markdown",
   "metadata": {},
   "source": [
    "### Ejercicio 4 "
   ]
  },
  {
   "cell_type": "code",
   "execution_count": 311,
   "metadata": {},
   "outputs": [],
   "source": [
    "X_train_cubic = np.vstack((np.power(X_train, 3),np.power(X_train, 2), X_train, np.ones(len(X_train)))).T\n",
    "#y_predict_3 = X_test_cubic.dot(w_cubic)\n",
    "\n",
    "def mini_batch_gradient_descent(X_train, y_train, lr=0.01, amt_epochs=100, b=5):  #lr: learning rate\n",
    "    \n",
    "    \"\"\"\n",
    "    shapes:\n",
    "        X_train = nxm\n",
    "        y_train = nx1\n",
    "        W = mx1\n",
    "    \"\"\"\n",
    "    \n",
    "    n = X_train.shape[0]\n",
    "    m = X_train.shape[1]\n",
    "\n",
    "    # initialize random weights\n",
    "    W = w_cubic\n",
    "\n",
    "    # iterate over the n_epochs\n",
    "    for i in range(amt_epochs):\n",
    "        \n",
    "        # Shuffle all the samples \n",
    "        idx = np.random.permutation(X_train.shape[0])\n",
    "        X_train = X_train[idx]\n",
    "        y_train = y_train[idx]\n",
    "\n",
    "        # Calculate the batch size in samples as a function of the number of batches\n",
    "        batch_size = int(len(X_train) / b)\n",
    " \n",
    "        # Iterate over the batches\n",
    "        for i in range(0, len(X_train), batch_size):\n",
    "            \n",
    "            end = i + batch_size if i + batch_size <= len(X_train) else len(X_train)\n",
    "            batch_X = X_train[i: end] # batch_size*m\n",
    "            batch_y = y_train[i: end] # batch_size*1\n",
    "\n",
    "            # Calculate the prediction for the whole batch\n",
    "            prediction = np.matmul(batch_X, W)  # batch_sizex1\n",
    "            # Calculate the error for the whole batch\n",
    "            error = batch_y - prediction  # batch_sizex1\n",
    "            error = np.vstack((error,np.ones(len(error))))\n",
    "            \n",
    "            # Calculate the gradient for the batch\n",
    "            \n",
    "            \n",
    "            # X_expanded = np.vstack((X, np.ones(len(X)))).T  \n",
    "            \n",
    "            #print('llego')\n",
    "            # error[batch_sizex1]*batch_X[batch_size*m]--> broadcasting --> batch_size*m\n",
    "            grad_sum = np.sum(error * batch_X, axis=0) # 1xm\n",
    "            grad_mul = -2/batch_size * grad_sum  # 1xm\n",
    "            gradient = np.transpose(grad_mul)  # mx1\n",
    "            \n",
    "            # Update the weights\n",
    "            W = W - (lr * gradient)\n",
    "\n",
    "    return W"
   ]
  },
  {
   "cell_type": "code",
   "execution_count": 312,
   "metadata": {},
   "outputs": [
    {
     "ename": "ValueError",
     "evalue": "operands could not be broadcast together with shapes (2,80) (80,4) ",
     "output_type": "error",
     "traceback": [
      "\u001b[1;31m---------------------------------------------------------------------------\u001b[0m",
      "\u001b[1;31mValueError\u001b[0m                                Traceback (most recent call last)",
      "\u001b[1;32m<ipython-input-312-186596ec9131>\u001b[0m in \u001b[0;36m<module>\u001b[1;34m\u001b[0m\n\u001b[1;32m----> 1\u001b[1;33m \u001b[0mw_cubic_gradient\u001b[0m \u001b[1;33m=\u001b[0m \u001b[0mmini_batch_gradient_descent\u001b[0m \u001b[1;33m(\u001b[0m\u001b[0mX_train_cubic\u001b[0m\u001b[1;33m,\u001b[0m\u001b[0my_train\u001b[0m\u001b[1;33m)\u001b[0m\u001b[1;33m\u001b[0m\u001b[1;33m\u001b[0m\u001b[0m\n\u001b[0m\u001b[0;32m      2\u001b[0m \u001b[1;31m#X_train_cubic.shape\u001b[0m\u001b[1;33m\u001b[0m\u001b[1;33m\u001b[0m\u001b[1;33m\u001b[0m\u001b[0m\n",
      "\u001b[1;32m<ipython-input-311-f40874b29420>\u001b[0m in \u001b[0;36mmini_batch_gradient_descent\u001b[1;34m(X_train, y_train, lr, amt_epochs, b)\u001b[0m\n\u001b[0;32m     48\u001b[0m             \u001b[1;31m#print('llego')\u001b[0m\u001b[1;33m\u001b[0m\u001b[1;33m\u001b[0m\u001b[1;33m\u001b[0m\u001b[0m\n\u001b[0;32m     49\u001b[0m             \u001b[1;31m# error[batch_sizex1]*batch_X[batch_size*m]--> broadcasting --> batch_size*m\u001b[0m\u001b[1;33m\u001b[0m\u001b[1;33m\u001b[0m\u001b[1;33m\u001b[0m\u001b[0m\n\u001b[1;32m---> 50\u001b[1;33m             \u001b[0mgrad_sum\u001b[0m \u001b[1;33m=\u001b[0m \u001b[0mnp\u001b[0m\u001b[1;33m.\u001b[0m\u001b[0msum\u001b[0m\u001b[1;33m(\u001b[0m\u001b[0merror\u001b[0m \u001b[1;33m*\u001b[0m \u001b[0mbatch_X\u001b[0m\u001b[1;33m,\u001b[0m \u001b[0maxis\u001b[0m\u001b[1;33m=\u001b[0m\u001b[1;36m0\u001b[0m\u001b[1;33m)\u001b[0m \u001b[1;31m# 1xm\u001b[0m\u001b[1;33m\u001b[0m\u001b[1;33m\u001b[0m\u001b[0m\n\u001b[0m\u001b[0;32m     51\u001b[0m             \u001b[0mgrad_mul\u001b[0m \u001b[1;33m=\u001b[0m \u001b[1;33m-\u001b[0m\u001b[1;36m2\u001b[0m\u001b[1;33m/\u001b[0m\u001b[0mbatch_size\u001b[0m \u001b[1;33m*\u001b[0m \u001b[0mgrad_sum\u001b[0m  \u001b[1;31m# 1xm\u001b[0m\u001b[1;33m\u001b[0m\u001b[1;33m\u001b[0m\u001b[0m\n\u001b[0;32m     52\u001b[0m             \u001b[0mgradient\u001b[0m \u001b[1;33m=\u001b[0m \u001b[0mnp\u001b[0m\u001b[1;33m.\u001b[0m\u001b[0mtranspose\u001b[0m\u001b[1;33m(\u001b[0m\u001b[0mgrad_mul\u001b[0m\u001b[1;33m)\u001b[0m  \u001b[1;31m# mx1\u001b[0m\u001b[1;33m\u001b[0m\u001b[1;33m\u001b[0m\u001b[0m\n",
      "\u001b[1;31mValueError\u001b[0m: operands could not be broadcast together with shapes (2,80) (80,4) "
     ]
    }
   ],
   "source": [
    "w_cubic_gradient = mini_batch_gradient_descent (X_train_cubic,y_train)\n",
    "#X_train_cubic.shape"
   ]
  },
  {
   "cell_type": "code",
   "execution_count": null,
   "metadata": {},
   "outputs": [],
   "source": []
  },
  {
   "cell_type": "code",
   "execution_count": null,
   "metadata": {},
   "outputs": [],
   "source": []
  }
 ],
 "metadata": {
  "kernelspec": {
   "display_name": "Python 3",
   "language": "python",
   "name": "python3"
  },
  "language_info": {
   "codemirror_mode": {
    "name": "ipython",
    "version": 3
   },
   "file_extension": ".py",
   "mimetype": "text/x-python",
   "name": "python",
   "nbconvert_exporter": "python",
   "pygments_lexer": "ipython3",
   "version": "3.8.5"
  }
 },
 "nbformat": 4,
 "nbformat_minor": 4
}
